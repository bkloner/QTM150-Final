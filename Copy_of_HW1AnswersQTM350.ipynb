{
  "nbformat": 4,
  "nbformat_minor": 0,
  "metadata": {
    "colab": {
      "name": "Copy of HW1AnswersQTM350",
      "provenance": [],
      "collapsed_sections": [],
      "include_colab_link": true
    },
    "kernelspec": {
      "name": "python3",
      "display_name": "Python 3"
    }
  },
  "cells": [
    {
      "cell_type": "markdown",
      "metadata": {
        "id": "view-in-github",
        "colab_type": "text"
      },
      "source": [
        "<a href=\"https://colab.research.google.com/github/bkloner/QTM150-Final/blob/master/Copy_of_HW1AnswersQTM350.ipynb\" target=\"_parent\"><img src=\"https://colab.research.google.com/assets/colab-badge.svg\" alt=\"Open In Colab\"/></a>"
      ]
    },
    {
      "cell_type": "markdown",
      "metadata": {
        "id": "rCqwbtmeb5qS"
      },
      "source": [
        "#Question 1"
      ]
    },
    {
      "cell_type": "markdown",
      "metadata": {
        "id": "f8Y7zHg1b32L"
      },
      "source": [
        "##Member 1: **Jon Marcus**\n",
        "\n",
        "\n",
        "My name is Jon Marcus. I am a junior at Emory studying QSS + Informatics. I'm from Fair Lawn, NJ, about 20 minutes from NYC. I am a huge sports fan, and it was the statistical side of baseball that got me interested in studying data science. I am excited to learn more about this class so I can see what being a data scientist truly means. [Here](https://www.linkedin.com/in/jon-marcus-1b8197180/) is my linkedin profile. "
      ]
    },
    {
      "cell_type": "code",
      "metadata": {
        "id": "KCAjoklRfH2y"
      },
      "source": [
        "from IPython.display import display, Javascript\n",
        "from google.colab.output import eval_js\n",
        "from base64 import b64decode\n",
        "\n",
        "def take_photo(filename='photo.jpg', quality=0.8):\n",
        "  js = Javascript('''\n",
        "    async function takePhoto(quality) {\n",
        "      const div = document.createElement('div');\n",
        "      const capture = document.createElement('button');\n",
        "      capture.textContent = 'Capture';\n",
        "      div.appendChild(capture);\n",
        "\n",
        "      const video = document.createElement('video');\n",
        "      video.style.display = 'block';\n",
        "      const stream = await navigator.mediaDevices.getUserMedia({video: true});\n",
        "\n",
        "      document.body.appendChild(div);\n",
        "      div.appendChild(video);\n",
        "      video.srcObject = stream;\n",
        "      await video.play();\n",
        "\n",
        "      // Resize the output to fit the video element.\n",
        "      google.colab.output.setIframeHeight(document.documentElement.scrollHeight, true);\n",
        "\n",
        "      // Wait for Capture to be clicked.\n",
        "      await new Promise((resolve) => capture.onclick = resolve);\n",
        "\n",
        "      const canvas = document.createElement('canvas');\n",
        "      canvas.width = video.videoWidth;\n",
        "      canvas.height = video.videoHeight;\n",
        "      canvas.getContext('2d').drawImage(video, 0, 0);\n",
        "      stream.getVideoTracks()[0].stop();\n",
        "      div.remove();\n",
        "      return canvas.toDataURL('image/jpeg', quality);\n",
        "    }\n",
        "    ''')\n",
        "  display(js)\n",
        "  data = eval_js('takePhoto({})'.format(quality))\n",
        "  binary = b64decode(data.split(',')[1])\n",
        "  with open(filename, 'wb') as f:\n",
        "    f.write(binary)\n",
        "  return filename"
      ],
      "execution_count": null,
      "outputs": []
    },
    {
      "cell_type": "code",
      "metadata": {
        "colab": {
          "base_uri": "https://localhost:8080/",
          "height": 34
        },
        "id": "vkkI6FnyfH21",
        "outputId": "a6bb3531-a1a6-4cd4-e26a-5ca2e6e43a3f"
      },
      "source": [
        "from IPython.display import Image\n",
        "try:\n",
        "  filename = take_photo()\n",
        "  print('Saved to {}'.format(filename))\n",
        "  \n",
        "  # Show the image which was just taken.\n",
        "  display(Image(filename))\n",
        "except Exception as err:\n",
        "  # Errors will be thrown if the user does not have a webcam or if they do not\n",
        "  # grant the page permission to access it.\n",
        "  print(str(err))"
      ],
      "execution_count": null,
      "outputs": [
        {
          "output_type": "display_data",
          "data": {
            "application/javascript": [
              "\n",
              "    async function takePhoto(quality) {\n",
              "      const div = document.createElement('div');\n",
              "      const capture = document.createElement('button');\n",
              "      capture.textContent = 'Capture';\n",
              "      div.appendChild(capture);\n",
              "\n",
              "      const video = document.createElement('video');\n",
              "      video.style.display = 'block';\n",
              "      const stream = await navigator.mediaDevices.getUserMedia({video: true});\n",
              "\n",
              "      document.body.appendChild(div);\n",
              "      div.appendChild(video);\n",
              "      video.srcObject = stream;\n",
              "      await video.play();\n",
              "\n",
              "      // Resize the output to fit the video element.\n",
              "      google.colab.output.setIframeHeight(document.documentElement.scrollHeight, true);\n",
              "\n",
              "      // Wait for Capture to be clicked.\n",
              "      await new Promise((resolve) => capture.onclick = resolve);\n",
              "\n",
              "      const canvas = document.createElement('canvas');\n",
              "      canvas.width = video.videoWidth;\n",
              "      canvas.height = video.videoHeight;\n",
              "      canvas.getContext('2d').drawImage(video, 0, 0);\n",
              "      stream.getVideoTracks()[0].stop();\n",
              "      div.remove();\n",
              "      return canvas.toDataURL('image/jpeg', quality);\n",
              "    }\n",
              "    "
            ],
            "text/plain": [
              "<IPython.core.display.Javascript object>"
            ]
          },
          "metadata": {
            "tags": []
          }
        },
        {
          "output_type": "stream",
          "text": [
            "NotAllowedError: Permission denied\n"
          ],
          "name": "stdout"
        }
      ]
    },
    {
      "cell_type": "markdown",
      "metadata": {
        "id": "ES8BXmpWcLpD"
      },
      "source": [
        "##Member 2: **Vicky Liu**\n",
        "\n",
        "My name is Vicky Liu. I am a junior at Emory University, double majoring in Physics and QSS on a Biology track. I was born in Brooklyn, New York, but grew up in Potomac, Maryland. \n",
        "\n",
        "I have linked my Linkedin profile [here](https://www.linkedin.com/in/vickyliu736/). "
      ]
    },
    {
      "cell_type": "markdown",
      "metadata": {
        "id": "6l_sSj83cRsJ"
      },
      "source": [
        "##Member 3: **Jonathan Savdie**\n",
        "\n",
        "\n",
        "Hi! My name is Jonathan Savdie, I am a junior majoring in QSS and my track is Economics. I was originally born in Colombia but I live in Costa Rica. I aspire to learn more about cloud computing and how it is being used in the ever-evolving world of data science. In my free time I like watching sports; especially soccer, football and mixed martial arts.\n",
        "\n",
        "You can find my LinkedIn profile [here](https://www.linkedin.com/in/jonathan-s-33958911a)"
      ]
    },
    {
      "cell_type": "markdown",
      "metadata": {
        "id": "ogMPgr3kcVeO"
      },
      "source": [
        "## Member 4: **Brett Kloner**\r\n",
        "\r\n",
        "My name is Brett Kloner, and I am a BBA + QSS major, concentrating in Finance. Ever since I took AP Stats in High School, I knew that I wanted to study some form of statistics and data science along with anything else I decided to do. I am really excited to learn Cloud Computing at the college level, so that I can take it with me into the workforce. In my free time, I like to play and watch baseball.\r\n",
        "You can find my LinkedIn profile [here](https://www.linkedin.com/in/brett-kloner-b19645186/)"
      ]
    },
    {
      "cell_type": "markdown",
      "metadata": {
        "id": "0WGtc6ofcbzB"
      },
      "source": [
        "##Member 5: **Bryant Wise**\n",
        "\n",
        "> My name is Bryant Wise. I am a junior on the baseball team here at Emory and I am studying QSS with a focus in Economics. Throughout my time at Emory, I have noticed how prevelant coding is in today's world, and this is why I am very excited to learn about Cloud Computing. You can find my LinkedIn profile [here](https://www.linkedin.com/in/bryant-wise-9698b2196/)\n"
      ]
    },
    {
      "cell_type": "markdown",
      "metadata": {
        "id": "IXYvYDP_cf0s"
      },
      "source": [
        "#Question 2"
      ]
    },
    {
      "cell_type": "markdown",
      "metadata": {
        "id": "VXE1c1EBBJMd"
      },
      "source": [
        "$$ \\log(e^x)= x$$\n",
        "Using the above equation, what is the smallest integer that fails?"
      ]
    },
    {
      "cell_type": "code",
      "metadata": {
        "colab": {
          "base_uri": "https://localhost:8080/"
        },
        "id": "dxds2aNKBBxJ",
        "outputId": "f5a2d42e-238f-49f0-bb7d-1b2690eb9b66"
      },
      "source": [
        "import numpy as np\n",
        "np.log((np.e)**(-746))"
      ],
      "execution_count": null,
      "outputs": [
        {
          "output_type": "stream",
          "text": [
            "/usr/local/lib/python3.6/dist-packages/ipykernel_launcher.py:2: RuntimeWarning: divide by zero encountered in log\n",
            "  \n"
          ],
          "name": "stderr"
        },
        {
          "output_type": "execute_result",
          "data": {
            "text/plain": [
              "-inf"
            ]
          },
          "metadata": {
            "tags": []
          },
          "execution_count": 47
        }
      ]
    },
    {
      "cell_type": "markdown",
      "metadata": {
        "id": "LE-787qicnYD"
      },
      "source": [
        "Numpy fails at x=-746. This is because when you raise something to a negative power, it puts it in the denominator of a fraction. When the power is large enough, numpy essentially interprets the number as 0. When numpy tries to calculate the log of 0, it gets an error, since you cannot compute the log of 0. "
      ]
    },
    {
      "cell_type": "markdown",
      "metadata": {
        "id": "OW5zVCtzc3jc"
      },
      "source": [
        "#Question 3"
      ]
    },
    {
      "cell_type": "markdown",
      "metadata": {
        "id": "Xt2FTLaJxxeh"
      },
      "source": [
        "$$r = \\frac{\\log(V/P)}{t}$$ "
      ]
    },
    {
      "cell_type": "markdown",
      "metadata": {
        "id": "uJqi9_3esbP4"
      },
      "source": [
        "Using the formula above and the given values, we are able to calculate the rate that tuition increases per year, if it were compounded continuously. We then multiply the answer we get by 100 to get it into the form of a percentage. Below are the calcuations for six of the Ivy League schools, which we decided on because as Ivy League schools, we expect them to attract the same type of student, and therefore should see a similar rate of tuition increase."
      ]
    },
    {
      "cell_type": "markdown",
      "metadata": {
        "id": "vtFHh7EiCch8"
      },
      "source": [
        "##Harvard\n",
        "(data was given)"
      ]
    },
    {
      "cell_type": "code",
      "metadata": {
        "colab": {
          "base_uri": "https://localhost:8080/",
          "height": 35
        },
        "id": "TEnO3r4Hc5LC",
        "outputId": "9db2f9f0-9d25-4d51-d6ec-8f53a798bfae"
      },
      "source": [
        "import numpy as np\n",
        "Pnew=4070\n",
        "Vnew=46340\n",
        "tnew=2019-1970\n",
        "rnew = np.log(Vnew/Pnew)/tnew\n",
        "percent = rnew*100\n",
        "f\"So the annual rate, compounded continuously, is {round(percent, 2)}% for Harvard between 1970 and 2019.\""
      ],
      "execution_count": null,
      "outputs": [
        {
          "output_type": "execute_result",
          "data": {
            "application/vnd.google.colaboratory.intrinsic+json": {
              "type": "string"
            },
            "text/plain": [
              "'So the annual rate, compounded continuously, is 4.96% for Harvard between 1970 and 2019.'"
            ]
          },
          "metadata": {
            "tags": []
          },
          "execution_count": 48
        }
      ]
    },
    {
      "cell_type": "markdown",
      "metadata": {
        "id": "kjx-sdhZCjAT"
      },
      "source": [
        "##Cornell\n",
        "(data found [here](https://www.nytimes.com/1970/01/25/archives/cornell-tuition-and-fees-to-increase-275-a-year.html) and [here](https://www.collegetuitioncompare.com/edu/190415/cornell-university/tuition/))"
      ]
    },
    {
      "cell_type": "code",
      "metadata": {
        "colab": {
          "base_uri": "https://localhost:8080/",
          "height": 35
        },
        "id": "qqsFt4iGC5qF",
        "outputId": "e6cac716-1724-4021-9fb2-7ae2beadf406"
      },
      "source": [
        "Pnew=2600\n",
        "Vnew=57222\n",
        "tnew=2019-1970\n",
        "rnew = np.log(Vnew/Pnew)/tnew\n",
        "percent = rnew*100\n",
        "f\"So the annual rate, compounded continuously, is {round(percent, 2)}% for Cornell between 1970 and 2019.\""
      ],
      "execution_count": null,
      "outputs": [
        {
          "output_type": "execute_result",
          "data": {
            "application/vnd.google.colaboratory.intrinsic+json": {
              "type": "string"
            },
            "text/plain": [
              "'So the annual rate, compounded continuously, is 6.31% for Cornell between 1970 and 2019.'"
            ]
          },
          "metadata": {
            "tags": []
          },
          "execution_count": 49
        }
      ]
    },
    {
      "cell_type": "markdown",
      "metadata": {
        "id": "QUOjlreWC6eR"
      },
      "source": [
        "##Yale\n",
        "(data found [here](https://yaledailynews.com/blog/2005/04/13/ballooning-tuition-presents-challenges/#:~:text=Yale%20tuition%20had%20grown%20to,1980%2C%20according%20to%20Wolfe's%20figures.) and [here](https://www.cnbc.com/2019/04/18/it-costs-75925-to-go-to-yaleheres-how-much-students-actually-pay.html#:~:text=Yale%2C%20a%20prestigious%20member%20of,a%20sum%20total%20of%20%2472%2C100.))"
      ]
    },
    {
      "cell_type": "code",
      "metadata": {
        "colab": {
          "base_uri": "https://localhost:8080/",
          "height": 35
        },
        "id": "bgohgVWXC82-",
        "outputId": "782be8d3-6066-4731-cccf-68d453b61e59"
      },
      "source": [
        "Pnew=2550\n",
        "Vnew=55500\n",
        "tnew=2019-1970\n",
        "rnew = np.log(Vnew/Pnew)/tnew\n",
        "percent = rnew*100\n",
        "f\"So the annual rate, compounded continuously, is {round(percent, 2)}% for Yale between 1970 and 2019.\""
      ],
      "execution_count": null,
      "outputs": [
        {
          "output_type": "execute_result",
          "data": {
            "application/vnd.google.colaboratory.intrinsic+json": {
              "type": "string"
            },
            "text/plain": [
              "'So the annual rate, compounded continuously, is 6.29% for Yale between 1970 and 2019.'"
            ]
          },
          "metadata": {
            "tags": []
          },
          "execution_count": 50
        }
      ]
    },
    {
      "cell_type": "markdown",
      "metadata": {
        "id": "77TAyTKkC8UZ"
      },
      "source": [
        "##University of Pennsylvania\n",
        "(data found [here](https://archives.upenn.edu/exhibits/penn-history/tuition/tuition-1970-1979) and [here](https://penntoday.upenn.edu/news/penn-trustees-approve-2019-20-financial-aid-budget-and-tuition#:~:text=To%20maintain%20Penn's%20world%2Dclass,housing%2C%20and%20%245%2C590%20for%20dining.))"
      ]
    },
    {
      "cell_type": "code",
      "metadata": {
        "colab": {
          "base_uri": "https://localhost:8080/",
          "height": 35
        },
        "id": "6Ldg8falDECe",
        "outputId": "cc360f11-b2f2-4145-cbc4-a535def88fd9"
      },
      "source": [
        "Pnew=2350\n",
        "Vnew=51156\n",
        "tnew=2019-1970\n",
        "rnew = np.log(Vnew/Pnew)/tnew\n",
        "percent = rnew*100\n",
        "f\"So the annual rate, compounded continuously, is {round(percent, 2)}% for the University of Pennsylvania between 1970 and 2019.\""
      ],
      "execution_count": null,
      "outputs": [
        {
          "output_type": "execute_result",
          "data": {
            "application/vnd.google.colaboratory.intrinsic+json": {
              "type": "string"
            },
            "text/plain": [
              "'So the annual rate, compounded continuously, is 6.29% for the University of Pennsylvania between 1970 and 2019.'"
            ]
          },
          "metadata": {
            "tags": []
          },
          "execution_count": 51
        }
      ]
    },
    {
      "cell_type": "markdown",
      "metadata": {
        "id": "wVQI9MrSDFM2"
      },
      "source": [
        "##Princeton\n",
        "(data from [here](https://www.nytimes.com/1973/02/19/archives/princeton-raising-tuition-again-and-it-sees-no-end-to-increases.html) and [here](https://www.cnbc.com/2019/05/03/it-costs-73450-to-go-to-princetonheres-how-much-students-pay.html#:~:text=According%20to%20the%20Princeton%20undergraduate,a%20%24930%20residential%20college%20fee.))"
      ]
    },
    {
      "cell_type": "code",
      "metadata": {
        "colab": {
          "base_uri": "https://localhost:8080/",
          "height": 35
        },
        "id": "YL2M3T2hDHf3",
        "outputId": "7b9afabe-c696-444a-8b92-1ab062d2b965"
      },
      "source": [
        "Pnew=3300\n",
        "Vnew=51870\n",
        "tnew=2019-1973\n",
        "rnew = np.log(Vnew/Pnew)/tnew\n",
        "percent = rnew*100\n",
        "f\"So the annual rate, compounded continuously, is {round(percent, 2)}% for Princeton between 1973 and 2019.\""
      ],
      "execution_count": null,
      "outputs": [
        {
          "output_type": "execute_result",
          "data": {
            "application/vnd.google.colaboratory.intrinsic+json": {
              "type": "string"
            },
            "text/plain": [
              "'So the annual rate, compounded continuously, is 5.99% for Princeton between 1973 and 2019.'"
            ]
          },
          "metadata": {
            "tags": []
          },
          "execution_count": 52
        }
      ]
    },
    {
      "cell_type": "markdown",
      "metadata": {
        "id": "6wEwQxDwDI1b"
      },
      "source": [
        "##Columbia\n",
        "(data from [here](https://www.nytimes.com/1985/06/01/us/college-cost-has-matched-inflation-since-74.html) and [here](https://www.univstats.com/colleges/columbia-university-in-the-city-of-new-york/cost-of-attendance/#:~:text=For%20the%20academic%20year%202019,a%20student%20lives%20off%2Dcampus.))"
      ]
    },
    {
      "cell_type": "code",
      "metadata": {
        "colab": {
          "base_uri": "https://localhost:8080/",
          "height": 35
        },
        "id": "ezHge5WZDg-H",
        "outputId": "404702db-86a9-4692-d742-0c99ec0bb6b7"
      },
      "source": [
        "Pnew=3370\n",
        "Vnew=60578\n",
        "tnew=2019-1974\n",
        "rnew = np.log(Vnew/Pnew)/tnew\n",
        "percent = rnew*100\n",
        "f\"So the annual rate, compounded continuously, is {round(percent, 2)}% for Columbia between 1974 and 2019.\""
      ],
      "execution_count": null,
      "outputs": [
        {
          "output_type": "execute_result",
          "data": {
            "application/vnd.google.colaboratory.intrinsic+json": {
              "type": "string"
            },
            "text/plain": [
              "'So the annual rate, compounded continuously, is 6.42% for Columbia between 1974 and 2019.'"
            ]
          },
          "metadata": {
            "tags": []
          },
          "execution_count": 53
        }
      ]
    },
    {
      "cell_type": "markdown",
      "metadata": {
        "id": "_eNv89gfDnM3"
      },
      "source": [
        "In conclusion, Harvard has had a smaller annual tuition increase on average compared to the other Ivy League schools. Columbia, Princeton, University of Pennsylvania, Yale, and Cornell all had higher annual increases, but it is important to note that in the 1970s, Harvard's tuition was slightly higher than their ivy counterparts, so their tuition increased at a slower rate to keep the tuition prices of the Ivy League schools relatively similar. "
      ]
    },
    {
      "cell_type": "markdown",
      "metadata": {
        "id": "Ws3GbNHGdA0k"
      },
      "source": [
        "#Question 4"
      ]
    },
    {
      "cell_type": "markdown",
      "metadata": {
        "id": "uNRXb_2bsyj3"
      },
      "source": [
        "To get the day of the week we were born, we first save our date of birth as a date, using pandas. Then we can simply use the function that gives the day of the week from that respective date."
      ]
    },
    {
      "cell_type": "markdown",
      "metadata": {
        "id": "aPQWVWeodJZY"
      },
      "source": [
        "###Jon Marcus"
      ]
    },
    {
      "cell_type": "code",
      "metadata": {
        "colab": {
          "base_uri": "https://localhost:8080/",
          "height": 35
        },
        "id": "7FoC2Iy0dDSq",
        "outputId": "3d23f4a2-6f91-489e-a494-b23aa4368d5b"
      },
      "source": [
        "import pandas as pd\n",
        "jondob = pd.Timestamp('May 11, 2000')\n",
        "jondob.day_name()"
      ],
      "execution_count": null,
      "outputs": [
        {
          "output_type": "execute_result",
          "data": {
            "application/vnd.google.colaboratory.intrinsic+json": {
              "type": "string"
            },
            "text/plain": [
              "'Thursday'"
            ]
          },
          "metadata": {
            "tags": []
          },
          "execution_count": 54
        }
      ]
    },
    {
      "cell_type": "markdown",
      "metadata": {
        "id": "eIOGToacdfB7"
      },
      "source": [
        "###Vicky Liu"
      ]
    },
    {
      "cell_type": "code",
      "metadata": {
        "colab": {
          "base_uri": "https://localhost:8080/",
          "height": 35
        },
        "id": "2nGgOSBndgw9",
        "outputId": "075a5a62-022a-46c6-d1f1-c345a8ff48b7"
      },
      "source": [
        "vickydob = pd.Timestamp('September 6, 2000')\n",
        "vickydob.day_name()"
      ],
      "execution_count": null,
      "outputs": [
        {
          "output_type": "execute_result",
          "data": {
            "application/vnd.google.colaboratory.intrinsic+json": {
              "type": "string"
            },
            "text/plain": [
              "'Wednesday'"
            ]
          },
          "metadata": {
            "tags": []
          },
          "execution_count": 55
        }
      ]
    },
    {
      "cell_type": "markdown",
      "metadata": {
        "id": "D6r1gpXcdix0"
      },
      "source": [
        "###Jonathan Savdie"
      ]
    },
    {
      "cell_type": "code",
      "metadata": {
        "colab": {
          "base_uri": "https://localhost:8080/",
          "height": 35
        },
        "id": "-ayk7tNPdkeu",
        "outputId": "6b87d35c-72d3-4ec6-9eb0-440ef62cac0a"
      },
      "source": [
        "jonathandob = pd.Timestamp('February 7, 2000')\n",
        "jonathandob.day_name()"
      ],
      "execution_count": null,
      "outputs": [
        {
          "output_type": "execute_result",
          "data": {
            "application/vnd.google.colaboratory.intrinsic+json": {
              "type": "string"
            },
            "text/plain": [
              "'Monday'"
            ]
          },
          "metadata": {
            "tags": []
          },
          "execution_count": 56
        }
      ]
    },
    {
      "cell_type": "markdown",
      "metadata": {
        "id": "b6TvyIs4doE5"
      },
      "source": [
        "###Brett Kloner"
      ]
    },
    {
      "cell_type": "code",
      "metadata": {
        "id": "bU-rFk1KdqE0",
        "colab": {
          "base_uri": "https://localhost:8080/",
          "height": 35
        },
        "outputId": "7229efe2-923e-472d-ca1d-81e036ab34f3"
      },
      "source": [
        "brettdob = pd.Timestamp('March 13, 2000')\r\n",
        "brettdob.day_name()"
      ],
      "execution_count": null,
      "outputs": [
        {
          "output_type": "execute_result",
          "data": {
            "application/vnd.google.colaboratory.intrinsic+json": {
              "type": "string"
            },
            "text/plain": [
              "'Monday'"
            ]
          },
          "metadata": {
            "tags": []
          },
          "execution_count": 57
        }
      ]
    },
    {
      "cell_type": "markdown",
      "metadata": {
        "id": "5Rrs6ikldrcW"
      },
      "source": [
        "###Bryant Wise"
      ]
    },
    {
      "cell_type": "code",
      "metadata": {
        "id": "odUx40a8dtn5",
        "colab": {
          "base_uri": "https://localhost:8080/",
          "height": 35
        },
        "outputId": "fd3e7921-064e-4acf-f768-edab51194ce5"
      },
      "source": [
        "bryantdob = pd.Timestamp('August 9, 2000')\n",
        "bryantdob.day_name()"
      ],
      "execution_count": null,
      "outputs": [
        {
          "output_type": "execute_result",
          "data": {
            "application/vnd.google.colaboratory.intrinsic+json": {
              "type": "string"
            },
            "text/plain": [
              "'Wednesday'"
            ]
          },
          "metadata": {
            "tags": []
          },
          "execution_count": 58
        }
      ]
    },
    {
      "cell_type": "markdown",
      "metadata": {
        "id": "Om02JapvdvV6"
      },
      "source": [
        "###Days since our birthdays"
      ]
    },
    {
      "cell_type": "markdown",
      "metadata": {
        "id": "ieU1M4k-tAeT"
      },
      "source": [
        "To get the days since our birthdays, we created a timestamp for \"now\", and subtracted our birthdays from it, to get the amount of days since we were born. We then combined each of the answers we got into one variable, $totdays$. "
      ]
    },
    {
      "cell_type": "code",
      "metadata": {
        "colab": {
          "base_uri": "https://localhost:8080/"
        },
        "id": "5Ajhry3edx1F",
        "outputId": "bc353493-0ca9-49d0-9fa7-511534575d68"
      },
      "source": [
        "now = pd.Timestamp.now()\n",
        "daysjon = now-jondob\n",
        "daysvicky = now-vickydob\n",
        "daysjonathan = now-jonathandob\n",
        "daysbrett = now-brettdob\n",
        "daysbryant = now-bryantdob\n",
        "totdays = daysjon, daysvicky, daysjonathan, daysbrett, daysbryant\n",
        "totdays"
      ],
      "execution_count": null,
      "outputs": [
        {
          "output_type": "execute_result",
          "data": {
            "text/plain": [
              "(Timedelta('7582 days 03:07:08.424928'),\n",
              " Timedelta('7464 days 03:07:08.424928'),\n",
              " Timedelta('7676 days 03:07:08.424928'),\n",
              " Timedelta('7641 days 03:07:08.424928'),\n",
              " Timedelta('7492 days 03:07:08.424928'))"
            ]
          },
          "metadata": {
            "tags": []
          },
          "execution_count": 59
        }
      ]
    },
    {
      "cell_type": "markdown",
      "metadata": {
        "id": "hxEC781N64Gp"
      },
      "source": [
        "Bryant has had the fewest days since his birthday, while Jonathan has had the most."
      ]
    },
    {
      "cell_type": "markdown",
      "metadata": {
        "id": "V9idOReUesgL"
      },
      "source": [
        "##Question 5"
      ]
    },
    {
      "cell_type": "code",
      "metadata": {
        "colab": {
          "base_uri": "https://localhost:8080/"
        },
        "id": "5s7P68ZMoB68",
        "outputId": "fc4f1f6d-e137-4ec9-bb55-7e8f0570e450"
      },
      "source": [
        "#@title Interest rate on 30 year mortgage (e.g. if 3%, enter 3)\r\n",
        "percentage =  2#@param {type:\"number\"}\r\n",
        "rate = percentage/100\r\n",
        "rate"
      ],
      "execution_count": null,
      "outputs": [
        {
          "output_type": "execute_result",
          "data": {
            "text/plain": [
              "0.02"
            ]
          },
          "metadata": {
            "tags": []
          },
          "execution_count": 60
        }
      ]
    },
    {
      "cell_type": "code",
      "metadata": {
        "id": "se995L8CoGii"
      },
      "source": [
        "house_spend=63179/4\r\n",
        "affordable_monthly_payment = house_spend/12\r\n",
        "affordable_monthly_payment\r\n",
        "c=rate/12 # monthly interest rate\r\n",
        "n = 12*30 # number of months in 30 years"
      ],
      "execution_count": null,
      "outputs": []
    },
    {
      "cell_type": "code",
      "metadata": {
        "id": "kBepGoVJoyB6"
      },
      "source": [
        "import numpy as np"
      ],
      "execution_count": null,
      "outputs": []
    },
    {
      "cell_type": "markdown",
      "metadata": {
        "id": "iTr0bj5vz5kh"
      },
      "source": [
        "$$ saver house price = \\frac{\\ house spend ((1 + rate)^{time-1})}{rate}$$ "
      ]
    },
    {
      "cell_type": "markdown",
      "metadata": {
        "id": "jVuQpRxG1NAE"
      },
      "source": [
        "How many years will it take for the saver profile buyer to save enough to purchase the $312,196 home that the renter profile can afford?"
      ]
    },
    {
      "cell_type": "markdown",
      "metadata": {
        "id": "sHMXkjWA9Pr4"
      },
      "source": [
        "Task 1:\r\n",
        "First off, we have to change the value of the saver house price to 312,196 USD as it says in the givens. To avoid confusion, we just created a new variable called \"new_saver_house_price\". Next, we rearranged the saver_house_price formula above in order to set the variables in terms of Timw. Since doing so reqiured logs, we figured it would be easier to make the numerator and denominator their own variables."
      ]
    },
    {
      "cell_type": "code",
      "metadata": {
        "colab": {
          "base_uri": "https://localhost:8080/"
        },
        "id": "fKzvnb2bn4nC",
        "outputId": "962d7be3-b7c8-4148-b962-e899214a051c"
      },
      "source": [
        "#task1\r\n",
        "new_saver_house_price = 312196    # price of home\r\n",
        "numerator = np.log(1+(new_saver_house_price*rate)/house_spend)  # equation from above\r\n",
        "denominator = np.log(1+rate)\r\n",
        "T = (numerator/denominator)   # to find T: time in years\r\n",
        "T"
      ],
      "execution_count": null,
      "outputs": [
        {
          "output_type": "execute_result",
          "data": {
            "text/plain": [
              "16.822062361663896"
            ]
          },
          "metadata": {
            "tags": []
          },
          "execution_count": 63
        }
      ]
    },
    {
      "cell_type": "markdown",
      "metadata": {
        "id": "HBqixiIq9YSy"
      },
      "source": [
        "From the code above, we see that if the someone wants to save and be able to pay everything uprfront for a 312,196 USD house, they will have to put aside the required 1/4 of their income (assuming it is 63,179 USD) for 16.82 years before they can do so."
      ]
    },
    {
      "cell_type": "markdown",
      "metadata": {
        "id": "nNAxhPZM1Rub"
      },
      "source": [
        "Calculate what how many years the saver profile needs to save to be able to buy a house which is priced at the median price for homes in Atlanta."
      ]
    },
    {
      "cell_type": "markdown",
      "metadata": {
        "id": "_Sa3stzX908g"
      },
      "source": [
        "Task 2:\r\n",
        "This task requires the same work as the task above, just with a slightly different house price of 308,663 USD. Therefore, we set it up the same way, just creating and using different variables such as median_saver_house_price, numerator2, denominator2, and T2. We keep rate and house_spend the same."
      ]
    },
    {
      "cell_type": "code",
      "metadata": {
        "colab": {
          "base_uri": "https://localhost:8080/"
        },
        "id": "IhohiR3so2Bw",
        "outputId": "8211d1ed-66fb-41fd-9a2b-468fa7aefb67"
      },
      "source": [
        "#task2\r\n",
        "median_saver_house_price = 308663\r\n",
        "numerator2 = np.log(1+(median_saver_house_price*rate)/house_spend)\r\n",
        "denominator2 = np.log(1+rate)\r\n",
        "T2 = (numerator2/denominator2)\r\n",
        "T2"
      ],
      "execution_count": null,
      "outputs": [
        {
          "output_type": "execute_result",
          "data": {
            "text/plain": [
              "16.65989532416991"
            ]
          },
          "metadata": {
            "tags": []
          },
          "execution_count": 64
        }
      ]
    },
    {
      "cell_type": "markdown",
      "metadata": {
        "id": "ZmAvMmRu9f_z"
      },
      "source": [
        "From the code above, we see that if the someone wants to save and be able to pay everything uprfront for a 308,663 USD house, which happens to be the median price of a house in Atlanta, they will have to put aside the required 1/4 of their income (assuming it is 63,179 USD) for 16.66 years before they can do so."
      ]
    },
    {
      "cell_type": "markdown",
      "metadata": {
        "id": "d6TQQvuT1UYN"
      },
      "source": [
        "> What if the interest rate is 3% instead of 2%?\n",
        "\n",
        "\n",
        "\n"
      ]
    },
    {
      "cell_type": "markdown",
      "metadata": {
        "id": "JVM2JKky9vWi"
      },
      "source": [
        "Task 3:\r\n",
        "In the next two coding cells, we are doing the same work as in task 2, except that we are changing the interest rates to see how it affects how long a person making the median income will have to save before they can pay for a median priced house in Atlanta. As a result, median_saver_house_price stays the same, while we change rate, and therefore use the new rate variables (rate3 and rate3b) in the numerator and denominator formulas, which then caused us to make new numerator, denominator, and T variables (numerator 3 and 3b, denominator 3 and 3b, T3 and 3b)."
      ]
    },
    {
      "cell_type": "code",
      "metadata": {
        "colab": {
          "base_uri": "https://localhost:8080/"
        },
        "id": "dOZcMx2lo-1q",
        "outputId": "f6d9583a-9d68-4fcd-a688-cb1b93c3eb8e"
      },
      "source": [
        "#task3\r\n",
        "median_saver_house_price = 308663\r\n",
        "rate3 = 0.03\r\n",
        "numerator3 = np.log(1+(median_saver_house_price*rate3)/house_spend)\r\n",
        "denominator3 = np.log(1+rate3)\r\n",
        "T3 = (numerator3/denominator3)\r\n",
        "T3"
      ],
      "execution_count": null,
      "outputs": [
        {
          "output_type": "execute_result",
          "data": {
            "text/plain": [
              "15.608935362586246"
            ]
          },
          "metadata": {
            "tags": []
          },
          "execution_count": 65
        }
      ]
    },
    {
      "cell_type": "markdown",
      "metadata": {
        "id": "h_QWOW1Y93n5"
      },
      "source": [
        "Increasing the interest rate from 2 percent to 3 percent makes it so that a person making the median income and putting 1/4 of it aside per year would have to wait 15.61 years to buy the median price of a house in Atlanta, which is one year sooner than with a 2 percent interest rate."
      ]
    },
    {
      "cell_type": "markdown",
      "metadata": {
        "id": "e2-pGmaF1gsV"
      },
      "source": [
        "> What if it is 10% as it was in the 1980's?"
      ]
    },
    {
      "cell_type": "code",
      "metadata": {
        "colab": {
          "base_uri": "https://localhost:8080/"
        },
        "id": "WXg6JFjXpDql",
        "outputId": "d5356ee3-555f-4fd2-87fe-cfaaf5df2b5e"
      },
      "source": [
        "#task3\r\n",
        "median_saver_house_price = 308663\r\n",
        "rate3b = 0.1\r\n",
        "numerator3b = np.log(1+(median_saver_house_price*rate3b)/house_spend)\r\n",
        "denominator3b = np.log(1+rate3b)\r\n",
        "T3b = (numerator3b/denominator3b)\r\n",
        "T3b"
      ],
      "execution_count": null,
      "outputs": [
        {
          "output_type": "execute_result",
          "data": {
            "text/plain": [
              "11.365335428425023"
            ]
          },
          "metadata": {
            "tags": []
          },
          "execution_count": 66
        }
      ]
    },
    {
      "cell_type": "markdown",
      "metadata": {
        "id": "howLrHl09-b6"
      },
      "source": [
        "Increasing the interest rate from 2 percent to 10 percent makes it so that a person making the median income and putting 1/4 of it aside per year would have to wait 11.37 years to buy the median price of a house in Atlanta, which is five years sooner than with a 2 percent interest rate."
      ]
    },
    {
      "cell_type": "markdown",
      "metadata": {
        "id": "rtRL_tN_1kR6"
      },
      "source": [
        "Suppose that a house is currently on the market with an asking price of $725000 when the interest rate is 3%. Calculate how large house_spend would need to be for the renter profile buyer to be able to purchase this house."
      ]
    },
    {
      "cell_type": "markdown",
      "metadata": {
        "id": "OpCY-FwM-Fak"
      },
      "source": [
        "Task 4:\r\n",
        "First, we create the variable rate4 to represent the 3 percent interest rate, and as a result create a new variable c4 to include rate4. Moreover, we create new_renter_house_price to represent the 725,000 USD home. Next, we rearrange the renter_house_price formula above so that Affordable Monthly Payment is isolated, and represented as new_amp with c4 and new_renter_house_price now included in the formula. Lastly, the new house spend is equal to 12 times new_amp since house spend is yearly, and affordable monthly payment is monthly."
      ]
    },
    {
      "cell_type": "code",
      "metadata": {
        "colab": {
          "base_uri": "https://localhost:8080/"
        },
        "id": "Zv6z3QbypJGA",
        "outputId": "e00c057a-b974-4705-f92c-1070890db601"
      },
      "source": [
        "#task4\r\n",
        "rate4 = 0.03\r\n",
        "c4=rate4/12 \r\n",
        "n = 12*30\r\n",
        "new_renter_house_price = 725000\r\n",
        "new_amp= new_renter_house_price*((c4*(1 + c4)**n)/((1 + c4)**n - 1))\r\n",
        "new_house_spend = new_amp*12\r\n",
        "new_house_spend"
      ],
      "execution_count": null,
      "outputs": [
        {
          "output_type": "execute_result",
          "data": {
            "text/plain": [
              "36679.55093446267"
            ]
          },
          "metadata": {
            "tags": []
          },
          "execution_count": 67
        }
      ]
    },
    {
      "cell_type": "markdown",
      "metadata": {
        "id": "L4ktOYZl-SEg"
      },
      "source": [
        "In order for the renter to afford $725,000 on loans, he will have to put 36,670.55 USD towards it each year for 30 years."
      ]
    },
    {
      "cell_type": "markdown",
      "metadata": {
        "id": "HIuGBhcs1pLz"
      },
      "source": [
        "> Suppose interest rates suddenly climb from 3 up to 4%. Calculate how large house_spend would need to be for the renter profile buyer to be able to purchase this house."
      ]
    },
    {
      "cell_type": "markdown",
      "metadata": {
        "id": "bCCWUyBn-UoT"
      },
      "source": [
        "Task 5: \r\n",
        "This task requires the same work as Task 5, the only thing we are changing is in interest rate to 4 percent, and creating the variable rate5 to represent that. Additionally, we create new variables c5, new5_renter_house_price, new5_amp, and new5_house_spend to take into account the new interest rate."
      ]
    },
    {
      "cell_type": "code",
      "metadata": {
        "colab": {
          "base_uri": "https://localhost:8080/"
        },
        "id": "dVq6S3NXpR3i",
        "outputId": "a0510cb3-0f05-4a20-978c-9a2969a97a8c"
      },
      "source": [
        "#task5\r\n",
        "rate5 = 0.04\r\n",
        "c5=rate5/12 \r\n",
        "n = 12*30\r\n",
        "new5_renter_house_price = 725000\r\n",
        "new5_amp= new5_renter_house_price*((c5*(1 + c5)**n)/((1 + c5)**n - 1))\r\n",
        "new5_house_spend = new5_amp*12\r\n",
        "new5_house_spend"
      ],
      "execution_count": null,
      "outputs": [
        {
          "output_type": "execute_result",
          "data": {
            "text/plain": [
              "41535.13070549448"
            ]
          },
          "metadata": {
            "tags": []
          },
          "execution_count": 68
        }
      ]
    },
    {
      "cell_type": "markdown",
      "metadata": {
        "id": "xghXW_ox-YAU"
      },
      "source": [
        "With interest rates now at 4 percent, the renter will now have to contribute 41535.13 USD per year for 30 years to pay off the 725,000 USD house on loans."
      ]
    },
    {
      "cell_type": "markdown",
      "metadata": {
        "id": "flbjcMWR1smL"
      },
      "source": [
        "Suppose that suddenly interest rates drop to 2% from 4%. What can the renter afford to pay now? Should the home sellers raise the asking price from $725000 to a higher number?"
      ]
    },
    {
      "cell_type": "markdown",
      "metadata": {
        "id": "slJMMLkP-cMQ"
      },
      "source": [
        "Task 6:\r\n",
        "We are changing the interest rate to 2 percent, and creating the variable rate6, and subsequently c6 and new6_renter_house_price to represent that. However, we are assuming the same monthly payment as task 5, and therefore keep the variable new5_amp. We now want to go back to isolating renter house price, like in the renter house price in the question givens/preface, so that we can see what the renter can now afford."
      ]
    },
    {
      "cell_type": "code",
      "metadata": {
        "colab": {
          "base_uri": "https://localhost:8080/"
        },
        "id": "BiCJZA_CpU8e",
        "outputId": "6d6b0fae-43f8-4728-e08d-68a4a6600bf2"
      },
      "source": [
        "#task6\r\n",
        "rate6 = 0.02\r\n",
        "c6=rate6/12\r\n",
        "n = 12*30\r\n",
        "new6_renter_house_price = new5_amp/((c6*(1 + c6)**n)/((1 + c6)**n - 1))\r\n",
        "new6_renter_house_price"
      ],
      "execution_count": null,
      "outputs": [
        {
          "output_type": "execute_result",
          "data": {
            "text/plain": [
              "936438.9995325283"
            ]
          },
          "metadata": {
            "tags": []
          },
          "execution_count": 69
        }
      ]
    },
    {
      "cell_type": "markdown",
      "metadata": {
        "id": "Js7FuIH2-fej"
      },
      "source": [
        "The renter can now afford a house of 936,439.00 USD, and therefore the seller should increase their asking price."
      ]
    },
    {
      "cell_type": "markdown",
      "metadata": {
        "id": "yGVPL4db-iYu"
      },
      "source": [
        "Bonus:\r\n",
        "As shown in tasks 2 and 3, the least years required before a saver could buy a median priced home decrease as the interest rate decreases. Therefore, the late 1970s, due to incredibly high interest rates, would have seen the least years required for the saver to wait to buy a median priced home. To the contrary, as shown in task 6, the renter is able to purchase a more expensive home when in interest rates are lower. Thus, the renter would be able to afford the most expsenvie home possible, given a certain house spend and income, now, or in the lat 2000s and early 2010s."
      ]
    }
  ]
}